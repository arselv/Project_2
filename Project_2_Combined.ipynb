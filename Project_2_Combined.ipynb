{
 "cells": [
  {
   "cell_type": "code",
   "execution_count": 1,
   "metadata": {},
   "outputs": [],
   "source": [
    "import pandas as pd\n",
    "import matplotlib.pyplot as plt\n",
    "import numpy as np\n",
    "import sqlalchemy\n",
    "from sqlalchemy import create_engine, func, inspect, MetaData, Column, Integer, Table\n",
    "from sqlalchemy.ext.automap import automap_base\n",
    "from sqlalchemy.orm import Session"
   ]
  },
  {
   "cell_type": "code",
   "execution_count": 2,
   "metadata": {},
   "outputs": [],
   "source": [
    "url = 'https://mbawa1139.github.io/ETL-Project/motorcycle_accident.html'"
   ]
  },
  {
   "cell_type": "code",
   "execution_count": 3,
   "metadata": {},
   "outputs": [
    {
     "data": {
      "text/html": [
       "<div>\n",
       "<style scoped>\n",
       "    .dataframe tbody tr th:only-of-type {\n",
       "        vertical-align: middle;\n",
       "    }\n",
       "\n",
       "    .dataframe tbody tr th {\n",
       "        vertical-align: top;\n",
       "    }\n",
       "\n",
       "    .dataframe thead th {\n",
       "        text-align: right;\n",
       "    }\n",
       "</style>\n",
       "<table border=\"1\" class=\"dataframe\">\n",
       "  <thead>\n",
       "    <tr style=\"text-align: right;\">\n",
       "      <th></th>\n",
       "      <th>Accident_Index</th>\n",
       "      <th>Vehicle_Type</th>\n",
       "      <th>Longitude</th>\n",
       "      <th>Latitude</th>\n",
       "      <th>Sex_of_Casualty</th>\n",
       "      <th>Age_of_Casualty</th>\n",
       "    </tr>\n",
       "  </thead>\n",
       "  <tbody>\n",
       "    <tr>\n",
       "      <th>0</th>\n",
       "      <td>201001BS70008</td>\n",
       "      <td>Motorcycle</td>\n",
       "      <td>-0.175802</td>\n",
       "      <td>51.484361</td>\n",
       "      <td>Male</td>\n",
       "      <td>28</td>\n",
       "    </tr>\n",
       "    <tr>\n",
       "      <th>1</th>\n",
       "      <td>201001BS70011</td>\n",
       "      <td>Motorcycle</td>\n",
       "      <td>-0.217699</td>\n",
       "      <td>51.514321</td>\n",
       "      <td>Male</td>\n",
       "      <td>21</td>\n",
       "    </tr>\n",
       "    <tr>\n",
       "      <th>2</th>\n",
       "      <td>201001BS70016</td>\n",
       "      <td>Motorcycle</td>\n",
       "      <td>-0.173157</td>\n",
       "      <td>51.485669</td>\n",
       "      <td>Male</td>\n",
       "      <td>14</td>\n",
       "    </tr>\n",
       "    <tr>\n",
       "      <th>4</th>\n",
       "      <td>201001BS70020</td>\n",
       "      <td>Motorcycle</td>\n",
       "      <td>-0.195276</td>\n",
       "      <td>51.494554</td>\n",
       "      <td>Male</td>\n",
       "      <td>23</td>\n",
       "    </tr>\n",
       "    <tr>\n",
       "      <th>5</th>\n",
       "      <td>201001BS70022</td>\n",
       "      <td>Motorcycle</td>\n",
       "      <td>-0.185327</td>\n",
       "      <td>51.494761</td>\n",
       "      <td>Male</td>\n",
       "      <td>37</td>\n",
       "    </tr>\n",
       "    <tr>\n",
       "      <th>...</th>\n",
       "      <td>...</td>\n",
       "      <td>...</td>\n",
       "      <td>...</td>\n",
       "      <td>...</td>\n",
       "      <td>...</td>\n",
       "      <td>...</td>\n",
       "    </tr>\n",
       "    <tr>\n",
       "      <th>114277</th>\n",
       "      <td>2014984120014</td>\n",
       "      <td>Motorcycle</td>\n",
       "      <td>-3.261808</td>\n",
       "      <td>54.987381</td>\n",
       "      <td>Male</td>\n",
       "      <td>25</td>\n",
       "    </tr>\n",
       "    <tr>\n",
       "      <th>114278</th>\n",
       "      <td>2014984121914</td>\n",
       "      <td>Motorcycle</td>\n",
       "      <td>-3.507553</td>\n",
       "      <td>55.408030</td>\n",
       "      <td>Male</td>\n",
       "      <td>59</td>\n",
       "    </tr>\n",
       "    <tr>\n",
       "      <th>114279</th>\n",
       "      <td>2014984127714</td>\n",
       "      <td>Motorcycle</td>\n",
       "      <td>-3.479810</td>\n",
       "      <td>55.118296</td>\n",
       "      <td>Male</td>\n",
       "      <td>42</td>\n",
       "    </tr>\n",
       "    <tr>\n",
       "      <th>114280</th>\n",
       "      <td>2014984129614</td>\n",
       "      <td>Motorcycle</td>\n",
       "      <td>-3.369973</td>\n",
       "      <td>55.352170</td>\n",
       "      <td>Male</td>\n",
       "      <td>35</td>\n",
       "    </tr>\n",
       "    <tr>\n",
       "      <th>114281</th>\n",
       "      <td>2014984133714</td>\n",
       "      <td>Motorcycle</td>\n",
       "      <td>-3.259829</td>\n",
       "      <td>54.988570</td>\n",
       "      <td>Male</td>\n",
       "      <td>18</td>\n",
       "    </tr>\n",
       "  </tbody>\n",
       "</table>\n",
       "<p>112529 rows × 6 columns</p>\n",
       "</div>"
      ],
      "text/plain": [
       "       Accident_Index Vehicle_Type  Longitude   Latitude Sex_of_Casualty  \\\n",
       "0       201001BS70008   Motorcycle  -0.175802  51.484361            Male   \n",
       "1       201001BS70011   Motorcycle  -0.217699  51.514321            Male   \n",
       "2       201001BS70016   Motorcycle  -0.173157  51.485669            Male   \n",
       "4       201001BS70020   Motorcycle  -0.195276  51.494554            Male   \n",
       "5       201001BS70022   Motorcycle  -0.185327  51.494761            Male   \n",
       "...               ...          ...        ...        ...             ...   \n",
       "114277  2014984120014   Motorcycle  -3.261808  54.987381            Male   \n",
       "114278  2014984121914   Motorcycle  -3.507553  55.408030            Male   \n",
       "114279  2014984127714   Motorcycle  -3.479810  55.118296            Male   \n",
       "114280  2014984129614   Motorcycle  -3.369973  55.352170            Male   \n",
       "114281  2014984133714   Motorcycle  -3.259829  54.988570            Male   \n",
       "\n",
       "        Age_of_Casualty  \n",
       "0                    28  \n",
       "1                    21  \n",
       "2                    14  \n",
       "4                    23  \n",
       "5                    37  \n",
       "...                 ...  \n",
       "114277               25  \n",
       "114278               59  \n",
       "114279               42  \n",
       "114280               35  \n",
       "114281               18  \n",
       "\n",
       "[112529 rows x 6 columns]"
      ]
     },
     "execution_count": 3,
     "metadata": {},
     "output_type": "execute_result"
    }
   ],
   "source": [
    "tbl = pd.read_html(url)\n",
    "df = tbl[0]\n",
    "df = df.drop(df.columns[0], axis=1)\n",
    "df = df[(df[\"Age_of_Casualty\"] != -1) & (df[\"Age_of_Casualty\"] != 0)]\n",
    "df"
   ]
  },
  {
   "cell_type": "code",
   "execution_count": 4,
   "metadata": {},
   "outputs": [
    {
     "data": {
      "text/plain": [
       "array([28, 21, 14, 23, 37, 69, 78, 34, 32, 39, 40, 22, 48, 35, 42, 54, 20,\n",
       "       43, 44, 30, 55, 38, 49, 25, 50, 17, 26, 56, 31, 41, 33, 46, 47, 36,\n",
       "       24, 19, 29, 59, 27, 70, 73, 45, 61, 18, 62,  9, 57, 53,  8, 64,  5,\n",
       "       52, 15, 51, 58, 63, 67, 75, 16, 13, 72, 60, 65, 95, 86, 77, 11, 12,\n",
       "       74, 68, 82,  4, 66,  1, 85,  7,  3, 79, 83, 80, 71, 89, 10, 76,  6,\n",
       "       90, 84, 91, 87,  2, 81, 88, 92, 94, 93, 97, 96, 98], dtype=int64)"
      ]
     },
     "execution_count": 4,
     "metadata": {},
     "output_type": "execute_result"
    }
   ],
   "source": [
    "df[\"Age_of_Casualty\"].unique()"
   ]
  },
  {
   "cell_type": "code",
   "execution_count": 5,
   "metadata": {},
   "outputs": [
    {
     "data": {
      "text/html": [
       "<div>\n",
       "<style scoped>\n",
       "    .dataframe tbody tr th:only-of-type {\n",
       "        vertical-align: middle;\n",
       "    }\n",
       "\n",
       "    .dataframe tbody tr th {\n",
       "        vertical-align: top;\n",
       "    }\n",
       "\n",
       "    .dataframe thead th {\n",
       "        text-align: right;\n",
       "    }\n",
       "</style>\n",
       "<table border=\"1\" class=\"dataframe\">\n",
       "  <thead>\n",
       "    <tr style=\"text-align: right;\">\n",
       "      <th></th>\n",
       "      <th>Accident_Index</th>\n",
       "      <th>Year</th>\n",
       "      <th>Vehicle_Type</th>\n",
       "      <th>Longitude</th>\n",
       "      <th>Latitude</th>\n",
       "      <th>Sex_of_Casualty</th>\n",
       "      <th>Age_of_Casualty</th>\n",
       "    </tr>\n",
       "  </thead>\n",
       "  <tbody>\n",
       "    <tr>\n",
       "      <th>0</th>\n",
       "      <td>201001BS70008</td>\n",
       "      <td>2010</td>\n",
       "      <td>Motorcycle</td>\n",
       "      <td>-0.175802</td>\n",
       "      <td>51.484361</td>\n",
       "      <td>Male</td>\n",
       "      <td>28</td>\n",
       "    </tr>\n",
       "    <tr>\n",
       "      <th>1</th>\n",
       "      <td>201001BS70011</td>\n",
       "      <td>2010</td>\n",
       "      <td>Motorcycle</td>\n",
       "      <td>-0.217699</td>\n",
       "      <td>51.514321</td>\n",
       "      <td>Male</td>\n",
       "      <td>21</td>\n",
       "    </tr>\n",
       "    <tr>\n",
       "      <th>2</th>\n",
       "      <td>201001BS70016</td>\n",
       "      <td>2010</td>\n",
       "      <td>Motorcycle</td>\n",
       "      <td>-0.173157</td>\n",
       "      <td>51.485669</td>\n",
       "      <td>Male</td>\n",
       "      <td>14</td>\n",
       "    </tr>\n",
       "    <tr>\n",
       "      <th>4</th>\n",
       "      <td>201001BS70020</td>\n",
       "      <td>2010</td>\n",
       "      <td>Motorcycle</td>\n",
       "      <td>-0.195276</td>\n",
       "      <td>51.494554</td>\n",
       "      <td>Male</td>\n",
       "      <td>23</td>\n",
       "    </tr>\n",
       "    <tr>\n",
       "      <th>5</th>\n",
       "      <td>201001BS70022</td>\n",
       "      <td>2010</td>\n",
       "      <td>Motorcycle</td>\n",
       "      <td>-0.185327</td>\n",
       "      <td>51.494761</td>\n",
       "      <td>Male</td>\n",
       "      <td>37</td>\n",
       "    </tr>\n",
       "  </tbody>\n",
       "</table>\n",
       "</div>"
      ],
      "text/plain": [
       "  Accident_Index  Year Vehicle_Type  Longitude   Latitude Sex_of_Casualty  \\\n",
       "0  201001BS70008  2010   Motorcycle  -0.175802  51.484361            Male   \n",
       "1  201001BS70011  2010   Motorcycle  -0.217699  51.514321            Male   \n",
       "2  201001BS70016  2010   Motorcycle  -0.173157  51.485669            Male   \n",
       "4  201001BS70020  2010   Motorcycle  -0.195276  51.494554            Male   \n",
       "5  201001BS70022  2010   Motorcycle  -0.185327  51.494761            Male   \n",
       "\n",
       "   Age_of_Casualty  \n",
       "0               28  \n",
       "1               21  \n",
       "2               14  \n",
       "4               23  \n",
       "5               37  "
      ]
     },
     "execution_count": 5,
     "metadata": {},
     "output_type": "execute_result"
    }
   ],
   "source": [
    "df[\"Year\"] = df[\"Accident_Index\"].str[:4]\n",
    "\n",
    "df = df[['Accident_Index', 'Year','Vehicle_Type', 'Longitude', \n",
    "    'Latitude', 'Sex_of_Casualty', 'Age_of_Casualty']]\n",
    "df.head()"
   ]
  },
  {
   "cell_type": "code",
   "execution_count": 6,
   "metadata": {},
   "outputs": [
    {
     "data": {
      "text/html": [
       "<div>\n",
       "<style scoped>\n",
       "    .dataframe tbody tr th:only-of-type {\n",
       "        vertical-align: middle;\n",
       "    }\n",
       "\n",
       "    .dataframe tbody tr th {\n",
       "        vertical-align: top;\n",
       "    }\n",
       "\n",
       "    .dataframe thead th {\n",
       "        text-align: right;\n",
       "    }\n",
       "</style>\n",
       "<table border=\"1\" class=\"dataframe\">\n",
       "  <thead>\n",
       "    <tr style=\"text-align: right;\">\n",
       "      <th></th>\n",
       "      <th>Accident_Index</th>\n",
       "      <th>Year</th>\n",
       "      <th>Vehicle_Type</th>\n",
       "      <th>Longitude</th>\n",
       "      <th>Latitude</th>\n",
       "      <th>Sex_of_Casualty</th>\n",
       "      <th>Age_of_Casualty</th>\n",
       "      <th>Age_Group</th>\n",
       "    </tr>\n",
       "  </thead>\n",
       "  <tbody>\n",
       "    <tr>\n",
       "      <th>0</th>\n",
       "      <td>201001BS70008</td>\n",
       "      <td>2010</td>\n",
       "      <td>Motorcycle</td>\n",
       "      <td>-0.175802</td>\n",
       "      <td>51.484361</td>\n",
       "      <td>Male</td>\n",
       "      <td>28</td>\n",
       "      <td>26 to 35</td>\n",
       "    </tr>\n",
       "    <tr>\n",
       "      <th>1</th>\n",
       "      <td>201001BS70011</td>\n",
       "      <td>2010</td>\n",
       "      <td>Motorcycle</td>\n",
       "      <td>-0.217699</td>\n",
       "      <td>51.514321</td>\n",
       "      <td>Male</td>\n",
       "      <td>21</td>\n",
       "      <td>18 to 25</td>\n",
       "    </tr>\n",
       "    <tr>\n",
       "      <th>2</th>\n",
       "      <td>201001BS70016</td>\n",
       "      <td>2010</td>\n",
       "      <td>Motorcycle</td>\n",
       "      <td>-0.173157</td>\n",
       "      <td>51.485669</td>\n",
       "      <td>Male</td>\n",
       "      <td>14</td>\n",
       "      <td>Under 18</td>\n",
       "    </tr>\n",
       "    <tr>\n",
       "      <th>4</th>\n",
       "      <td>201001BS70020</td>\n",
       "      <td>2010</td>\n",
       "      <td>Motorcycle</td>\n",
       "      <td>-0.195276</td>\n",
       "      <td>51.494554</td>\n",
       "      <td>Male</td>\n",
       "      <td>23</td>\n",
       "      <td>18 to 25</td>\n",
       "    </tr>\n",
       "    <tr>\n",
       "      <th>5</th>\n",
       "      <td>201001BS70022</td>\n",
       "      <td>2010</td>\n",
       "      <td>Motorcycle</td>\n",
       "      <td>-0.185327</td>\n",
       "      <td>51.494761</td>\n",
       "      <td>Male</td>\n",
       "      <td>37</td>\n",
       "      <td>36 to 45</td>\n",
       "    </tr>\n",
       "  </tbody>\n",
       "</table>\n",
       "</div>"
      ],
      "text/plain": [
       "  Accident_Index  Year Vehicle_Type  Longitude   Latitude Sex_of_Casualty  \\\n",
       "0  201001BS70008  2010   Motorcycle  -0.175802  51.484361            Male   \n",
       "1  201001BS70011  2010   Motorcycle  -0.217699  51.514321            Male   \n",
       "2  201001BS70016  2010   Motorcycle  -0.173157  51.485669            Male   \n",
       "4  201001BS70020  2010   Motorcycle  -0.195276  51.494554            Male   \n",
       "5  201001BS70022  2010   Motorcycle  -0.185327  51.494761            Male   \n",
       "\n",
       "   Age_of_Casualty Age_Group  \n",
       "0               28  26 to 35  \n",
       "1               21  18 to 25  \n",
       "2               14  Under 18  \n",
       "4               23  18 to 25  \n",
       "5               37  36 to 45  "
      ]
     },
     "execution_count": 6,
     "metadata": {},
     "output_type": "execute_result"
    }
   ],
   "source": [
    "# Create the decade bins \n",
    "bins = [0, 17, 25, 35, 45, 55, 100]\n",
    "\n",
    "# Create the names for the bins\n",
    "group_names = [\"Under 18\", \"18 to 25\", \"26 to 35\", \"36 to 45\", \"46 to 55\", \"Over 55\"]\n",
    "\n",
    "# coverting year column datatype to interger\n",
    "df['Age_of_Casualty'] = df['Age_of_Casualty'].astype(int)\n",
    "\n",
    "# add bin column to dataframe\n",
    "df[\"Age_Group\"] = pd.cut(df[\"Age_of_Casualty\"], bins, labels=group_names, include_lowest=True)\n",
    "\n",
    "# reorganize columns\n",
    "df = df[['Accident_Index', 'Year','Vehicle_Type', 'Longitude', \n",
    "         'Latitude', 'Sex_of_Casualty', 'Age_of_Casualty', 'Age_Group']]\n",
    "\n",
    "df.head()"
   ]
  },
  {
   "cell_type": "code",
   "execution_count": 7,
   "metadata": {},
   "outputs": [
    {
     "data": {
      "text/plain": [
       "Age_Group\n",
       "Under 18    13430\n",
       "18 to 25    30542\n",
       "26 to 35    22595\n",
       "36 to 45    19378\n",
       "46 to 55    16593\n",
       "Over 55      9991\n",
       "Name: Age_of_Casualty, dtype: int64"
      ]
     },
     "execution_count": 7,
     "metadata": {},
     "output_type": "execute_result"
    }
   ],
   "source": [
    "age_group_df = df.groupby([\"Age_Group\"])[\"Age_of_Casualty\"].count()\n",
    "age_group_df"
   ]
  },
  {
   "cell_type": "code",
   "execution_count": 8,
   "metadata": {},
   "outputs": [
    {
     "name": "stderr",
     "output_type": "stream",
     "text": [
      "C:\\Users\\felip\\anaconda3\\envs\\PythonData\\lib\\site-packages\\ipykernel_launcher.py:2: MatplotlibDeprecationWarning: Adding an axes using the same arguments as a previous axes currently reuses the earlier instance.  In a future version, a new instance will always be created and returned.  Meanwhile, this warning can be suppressed, and the future behavior ensured, by passing a unique label to each axes instance.\n",
      "  \n"
     ]
    },
    {
     "data": {
      "image/png": "[encoded data removed]",
      "text/plain": [
       "<Figure size 720x360 with 1 Axes>"
      ]
     },
     "metadata": {
      "needs_background": "light"
     },
     "output_type": "display_data"
    }
   ],
   "source": [
    "age_group_df.plot(kind=\"barh\", figsize=(10,5))\n",
    "ax1 = plt.axes()\n",
    "ax1.yaxis.set_label_text('Age Group')\n",
    "ax1.xaxis.set_label_text('Motorcycle Casualties')\n",
    "plt.savefig('Images/age_grp_barh.png')"
   ]
  },
  {
   "cell_type": "code",
   "execution_count": 9,
   "metadata": {},
   "outputs": [
    {
     "data": {
      "text/html": [
       "<div>\n",
       "<style scoped>\n",
       "    .dataframe tbody tr th:only-of-type {\n",
       "        vertical-align: middle;\n",
       "    }\n",
       "\n",
       "    .dataframe tbody tr th {\n",
       "        vertical-align: top;\n",
       "    }\n",
       "\n",
       "    .dataframe thead th {\n",
       "        text-align: right;\n",
       "    }\n",
       "</style>\n",
       "<table border=\"1\" class=\"dataframe\">\n",
       "  <thead>\n",
       "    <tr style=\"text-align: right;\">\n",
       "      <th></th>\n",
       "      <th>Year</th>\n",
       "      <th>Sex_of_Casualty</th>\n",
       "      <th>Age_of_Casualty</th>\n",
       "    </tr>\n",
       "  </thead>\n",
       "  <tbody>\n",
       "    <tr>\n",
       "      <th>0</th>\n",
       "      <td>2010</td>\n",
       "      <td>Female</td>\n",
       "      <td>3331</td>\n",
       "    </tr>\n",
       "    <tr>\n",
       "      <th>1</th>\n",
       "      <td>2010</td>\n",
       "      <td>Male</td>\n",
       "      <td>18502</td>\n",
       "    </tr>\n",
       "    <tr>\n",
       "      <th>2</th>\n",
       "      <td>2011</td>\n",
       "      <td>Female</td>\n",
       "      <td>3349</td>\n",
       "    </tr>\n",
       "    <tr>\n",
       "      <th>3</th>\n",
       "      <td>2011</td>\n",
       "      <td>Male</td>\n",
       "      <td>20062</td>\n",
       "    </tr>\n",
       "    <tr>\n",
       "      <th>4</th>\n",
       "      <td>2012</td>\n",
       "      <td>Female</td>\n",
       "      <td>3232</td>\n",
       "    </tr>\n",
       "  </tbody>\n",
       "</table>\n",
       "</div>"
      ],
      "text/plain": [
       "   Year Sex_of_Casualty  Age_of_Casualty\n",
       "0  2010          Female             3331\n",
       "1  2010            Male            18502\n",
       "2  2011          Female             3349\n",
       "3  2011            Male            20062\n",
       "4  2012          Female             3232"
      ]
     },
     "execution_count": 9,
     "metadata": {},
     "output_type": "execute_result"
    }
   ],
   "source": [
    "gender_year_df = df.groupby([\"Year\", \"Sex_of_Casualty\"])[\"Age_of_Casualty\"].count().reset_index().rename_axis(None, axis=1)\n",
    "gender_year_df.head()"
   ]
  },
  {
   "cell_type": "code",
   "execution_count": 10,
   "metadata": {},
   "outputs": [
    {
     "data": {
      "text/html": [
       "<div>\n",
       "<style scoped>\n",
       "    .dataframe tbody tr th:only-of-type {\n",
       "        vertical-align: middle;\n",
       "    }\n",
       "\n",
       "    .dataframe tbody tr th {\n",
       "        vertical-align: top;\n",
       "    }\n",
       "\n",
       "    .dataframe thead th {\n",
       "        text-align: right;\n",
       "    }\n",
       "</style>\n",
       "<table border=\"1\" class=\"dataframe\">\n",
       "  <thead>\n",
       "    <tr style=\"text-align: right;\">\n",
       "      <th></th>\n",
       "      <th>Year</th>\n",
       "      <th>Female</th>\n",
       "      <th>Male</th>\n",
       "    </tr>\n",
       "  </thead>\n",
       "  <tbody>\n",
       "    <tr>\n",
       "      <th>0</th>\n",
       "      <td>2010</td>\n",
       "      <td>3331</td>\n",
       "      <td>18502</td>\n",
       "    </tr>\n",
       "    <tr>\n",
       "      <th>1</th>\n",
       "      <td>2011</td>\n",
       "      <td>3349</td>\n",
       "      <td>20062</td>\n",
       "    </tr>\n",
       "    <tr>\n",
       "      <th>2</th>\n",
       "      <td>2012</td>\n",
       "      <td>3232</td>\n",
       "      <td>19040</td>\n",
       "    </tr>\n",
       "    <tr>\n",
       "      <th>3</th>\n",
       "      <td>2013</td>\n",
       "      <td>3093</td>\n",
       "      <td>18612</td>\n",
       "    </tr>\n",
       "    <tr>\n",
       "      <th>4</th>\n",
       "      <td>2014</td>\n",
       "      <td>3173</td>\n",
       "      <td>20135</td>\n",
       "    </tr>\n",
       "  </tbody>\n",
       "</table>\n",
       "</div>"
      ],
      "text/plain": [
       "   Year  Female   Male\n",
       "0  2010    3331  18502\n",
       "1  2011    3349  20062\n",
       "2  2012    3232  19040\n",
       "3  2013    3093  18612\n",
       "4  2014    3173  20135"
      ]
     },
     "execution_count": 10,
     "metadata": {},
     "output_type": "execute_result"
    }
   ],
   "source": [
    "gender = gender_year_df.pivot_table(index=[\"Year\"], columns=[\"Sex_of_Casualty\"], \n",
    "                          values=\"Age_of_Casualty\").reset_index().rename_axis(None, axis=1)\n",
    "gender"
   ]
  },
  {
   "cell_type": "code",
   "execution_count": 11,
   "metadata": {},
   "outputs": [
    {
     "name": "stderr",
     "output_type": "stream",
     "text": [
      "C:\\Users\\felip\\anaconda3\\envs\\PythonData\\lib\\site-packages\\ipykernel_launcher.py:3: MatplotlibDeprecationWarning: Adding an axes using the same arguments as a previous axes currently reuses the earlier instance.  In a future version, a new instance will always be created and returned.  Meanwhile, this warning can be suppressed, and the future behavior ensured, by passing a unique label to each axes instance.\n",
      "  This is separate from the ipykernel package so we can avoid doing imports until\n"
     ]
    },
    {
     "data": {
      "image/png": "[encoded data removed]",
      "text/plain": [
       "<Figure size 720x360 with 1 Axes>"
      ]
     },
     "metadata": {
      "needs_background": "light"
     },
     "output_type": "display_data"
    }
   ],
   "source": [
    "gender.reset_index().plot(kind='bar',x='Year', y=['Male', 'Female'],figsize=(10,5))\n",
    "plt.title(\"Motorcycle Casualties by Gender: 2010 through 2014\", fontsize=10)\n",
    "ax1 = plt.axes()\n",
    "ax1.yaxis.set_label_text('Motorcycle Casualties')\n",
    "plt.savefig('Images/gender_bar.png')"
   ]
  },
  {
   "cell_type": "code",
   "execution_count": 12,
   "metadata": {},
   "outputs": [],
   "source": [
    "# Path to SQLite file\n",
    "sql_lite = \"sqlite:///uk_motorcycle_accidents_sqlite.sqlite\"\n",
    "\n",
    "# Initial DB connection\n",
    "engine = create_engine(sql_lite)"
   ]
  },
  {
   "cell_type": "code",
   "execution_count": 13,
   "metadata": {},
   "outputs": [],
   "source": [
    "# Read DF into DB\n",
    "df.to_sql(name='uk_motorcycle_accidents', con=engine, if_exists='append', index=False)"
   ]
  },
  {
   "cell_type": "code",
   "execution_count": 14,
   "metadata": {},
   "outputs": [
    {
     "data": {
      "text/plain": [
       "['uk_motorcycle_accidents']"
      ]
     },
     "execution_count": 14,
     "metadata": {},
     "output_type": "execute_result"
    }
   ],
   "source": [
    "# Check connection of DB is working\n",
    "engine.table_names()"
   ]
  },
  {
   "cell_type": "code",
   "execution_count": 15,
   "metadata": {},
   "outputs": [],
   "source": [
    "# Read DF into Json\n",
    "df.to_json(r'uk_motorcycle_accidents.json', orient='index')"
   ]
  },
  {
   "cell_type": "code",
   "execution_count": 16,
   "metadata": {},
   "outputs": [
    {
     "data": {
      "text/html": [
       "<div>\n",
       "<style scoped>\n",
       "    .dataframe tbody tr th:only-of-type {\n",
       "        vertical-align: middle;\n",
       "    }\n",
       "\n",
       "    .dataframe tbody tr th {\n",
       "        vertical-align: top;\n",
       "    }\n",
       "\n",
       "    .dataframe thead th {\n",
       "        text-align: right;\n",
       "    }\n",
       "</style>\n",
       "<table border=\"1\" class=\"dataframe\">\n",
       "  <thead>\n",
       "    <tr style=\"text-align: right;\">\n",
       "      <th></th>\n",
       "      <th>Accident_Index</th>\n",
       "      <th>Year</th>\n",
       "      <th>Vehicle_Type</th>\n",
       "      <th>Longitude</th>\n",
       "      <th>Latitude</th>\n",
       "      <th>Sex_of_Casualty</th>\n",
       "      <th>Age_of_Casualty</th>\n",
       "      <th>Age_Group</th>\n",
       "    </tr>\n",
       "  </thead>\n",
       "  <tbody>\n",
       "    <tr>\n",
       "      <th>0</th>\n",
       "      <td>201001BS70008</td>\n",
       "      <td>2010</td>\n",
       "      <td>Motorcycle</td>\n",
       "      <td>-0.175802</td>\n",
       "      <td>51.484361</td>\n",
       "      <td>Male</td>\n",
       "      <td>28</td>\n",
       "      <td>26 to 35</td>\n",
       "    </tr>\n",
       "    <tr>\n",
       "      <th>1</th>\n",
       "      <td>201001BS70011</td>\n",
       "      <td>2010</td>\n",
       "      <td>Motorcycle</td>\n",
       "      <td>-0.217699</td>\n",
       "      <td>51.514321</td>\n",
       "      <td>Male</td>\n",
       "      <td>21</td>\n",
       "      <td>18 to 25</td>\n",
       "    </tr>\n",
       "    <tr>\n",
       "      <th>2</th>\n",
       "      <td>201001BS70016</td>\n",
       "      <td>2010</td>\n",
       "      <td>Motorcycle</td>\n",
       "      <td>-0.173157</td>\n",
       "      <td>51.485669</td>\n",
       "      <td>Male</td>\n",
       "      <td>14</td>\n",
       "      <td>Under 18</td>\n",
       "    </tr>\n",
       "    <tr>\n",
       "      <th>3</th>\n",
       "      <td>201001BS70020</td>\n",
       "      <td>2010</td>\n",
       "      <td>Motorcycle</td>\n",
       "      <td>-0.195276</td>\n",
       "      <td>51.494554</td>\n",
       "      <td>Male</td>\n",
       "      <td>23</td>\n",
       "      <td>18 to 25</td>\n",
       "    </tr>\n",
       "    <tr>\n",
       "      <th>4</th>\n",
       "      <td>201001BS70022</td>\n",
       "      <td>2010</td>\n",
       "      <td>Motorcycle</td>\n",
       "      <td>-0.185327</td>\n",
       "      <td>51.494761</td>\n",
       "      <td>Male</td>\n",
       "      <td>37</td>\n",
       "      <td>36 to 45</td>\n",
       "    </tr>\n",
       "  </tbody>\n",
       "</table>\n",
       "</div>"
      ],
      "text/plain": [
       "  Accident_Index  Year Vehicle_Type  Longitude   Latitude Sex_of_Casualty  \\\n",
       "0  201001BS70008  2010   Motorcycle  -0.175802  51.484361            Male   \n",
       "1  201001BS70011  2010   Motorcycle  -0.217699  51.514321            Male   \n",
       "2  201001BS70016  2010   Motorcycle  -0.173157  51.485669            Male   \n",
       "3  201001BS70020  2010   Motorcycle  -0.195276  51.494554            Male   \n",
       "4  201001BS70022  2010   Motorcycle  -0.185327  51.494761            Male   \n",
       "\n",
       "   Age_of_Casualty Age_Group  \n",
       "0               28  26 to 35  \n",
       "1               21  18 to 25  \n",
       "2               14  Under 18  \n",
       "3               23  18 to 25  \n",
       "4               37  36 to 45  "
      ]
     },
     "execution_count": 16,
     "metadata": {},
     "output_type": "execute_result"
    }
   ],
   "source": [
    "pd.read_sql_query('Select * from uk_motorcycle_accidents', con=engine).head()"
   ]
  },
  {
   "cell_type": "code",
   "execution_count": 17,
   "metadata": {},
   "outputs": [
    {
     "name": "stdout",
     "output_type": "stream",
     "text": [
      "Accident_Index TEXT\n",
      "Year TEXT\n",
      "Vehicle_Type TEXT\n",
      "Longitude FLOAT\n",
      "Latitude FLOAT\n",
      "Sex_of_Casualty TEXT\n",
      "Age_of_Casualty BIGINT\n",
      "Age_Group TEXT\n"
     ]
    }
   ],
   "source": [
    "# Checking for table columns\n",
    "inspector = inspect(engine)\n",
    "casualty_columns = inspector.get_columns('uk_motorcycle_accidents')\n",
    "for c in casualty_columns:\n",
    "    print(c['name'], c[\"type\"])"
   ]
  },
  {
   "cell_type": "code",
   "execution_count": 18,
   "metadata": {},
   "outputs": [],
   "source": [
    "session = Session(engine)"
   ]
  },
  {
   "cell_type": "code",
   "execution_count": 19,
   "metadata": {},
   "outputs": [
    {
     "name": "stdout",
     "output_type": "stream",
     "text": [
      "[(51.514321, -0.21769899999999998), (51.494554, -0.195276), (51.494743, -0.195845), (51.487021, -0.179153), (51.492443, -0.163523), (51.501665, -0.184044), (51.490444000000004, -0.191117), (51.499958, -0.19578299999999998), (51.484044, -0.18431199999999998), (51.502165999999995, -0.158521)]\n"
     ]
    }
   ],
   "source": [
    "# Good example of querying the database and assigning to variable\n",
    "coord = session.execute('Select Latitude, Longitude From uk_motorcycle_accidents Where Age_Group = \"18 to 25\" LIMIT 10').fetchall()\n",
    "print(coord)"
   ]
  },
  {
   "cell_type": "code",
   "execution_count": 20,
   "metadata": {},
   "outputs": [],
   "source": [
    "session.close()"
   ]
  },
  {
   "cell_type": "code",
   "execution_count": null,
   "metadata": {},
   "outputs": [],
   "source": []
  }
 ],
 "metadata": {
  "kernelspec": {
   "display_name": "Python 3",
   "language": "python",
   "name": "python3"
  },
  "language_info": {
   "codemirror_mode": {
    "name": "ipython",
    "version": 3
   },
   "file_extension": ".py",
   "mimetype": "text/x-python",
   "name": "python",
   "nbconvert_exporter": "python",
   "pygments_lexer": "ipython3",
   "version": "3.6.10"
  }
 },
 "nbformat": 4,
 "nbformat_minor": 4
}
